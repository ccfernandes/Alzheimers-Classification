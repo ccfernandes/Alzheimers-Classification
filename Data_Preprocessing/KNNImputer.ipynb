{
 "cells": [
  {
   "cell_type": "code",
   "execution_count": 2,
   "metadata": {},
   "outputs": [],
   "source": [
    "'''\n",
    "This notebook takes a csv of the data and imputes everything based on the KNN algorithm via KNNImputer().\n",
    "Note: csv must not contain headers or strings, only numbers. \n",
    "'''\n",
    "\n",
    "#Load libraries\n",
    "import os\n",
    "import pandas as pd\n",
    "import numpy as np"
   ]
  },
  {
   "cell_type": "code",
   "execution_count": 3,
   "metadata": {
    "scrolled": true
   },
   "outputs": [
    {
     "ename": "NameError",
     "evalue": "name 'dataframe' is not defined",
     "output_type": "error",
     "traceback": [
      "\u001b[1;31m---------------------------------------------------------------------------\u001b[0m",
      "\u001b[1;31mNameError\u001b[0m                                 Traceback (most recent call last)",
      "\u001b[1;32m<ipython-input-3-b097bcd8186b>\u001b[0m in \u001b[0;36m<module>\u001b[1;34m\u001b[0m\n\u001b[1;32m----> 1\u001b[1;33m \u001b[0mdataframe\u001b[0m\u001b[1;33m.\u001b[0m\u001b[0mshape\u001b[0m\u001b[1;33m\u001b[0m\u001b[1;33m\u001b[0m\u001b[0m\n\u001b[0m",
      "\u001b[1;31mNameError\u001b[0m: name 'dataframe' is not defined"
     ]
    }
   ],
   "source": [
    "dataframe.shape"
   ]
  },
  {
   "cell_type": "code",
   "execution_count": 4,
   "metadata": {},
   "outputs": [
    {
     "name": "stdout",
     "output_type": "stream",
     "text": [
      "count of NULL values before imputation\n",
      "\n",
      "72.6                     0\n",
      "0                       14\n",
      "30                       0\n",
      "6.67                     5\n",
      "9.67                    10\n",
      "13987                   51\n",
      "3428                   129\n",
      "53                       4\n",
      "Unnamed: 8             198\n",
      "0.000583762401551        0\n",
      "4.7979887649227E-06      0\n",
      "0.000191126987622        0\n",
      "0.009933313921695        0\n",
      "0.00243450347634         0\n",
      "821.99                 142\n",
      "6.756                  142\n",
      "269.124                142\n",
      "0.1                     10\n",
      "2                        0\n",
      "3                        0\n",
      "18                       0\n",
      "4                        0\n",
      "dtype: int64\n"
     ]
    }
   ],
   "source": [
    "from sklearn.impute import KNNImputer\n",
    "\n",
    "mydata = pd.read_csv(\"C:\\\\Users\\\\AZD\\\\Documents\\\\GitHub\\\\Alzheimers-Classification\\\\ADNI Data Breakdown\\\\data imputation\\\\mergedData_MAIN.csv\")\n",
    "print(\"count of NULL values before imputation\\n\")\n",
    "print(mydata.isnull().sum())\n",
    "\n",
    "imputer = KNNImputer(n_neighbors=3)\n",
    "imputed = imputer.fit_transform(mydata)\n",
    "df_imputed = pd.DataFrame(imputed, columns=mydata.columns)"
   ]
  },
  {
   "cell_type": "code",
   "execution_count": 5,
   "metadata": {},
   "outputs": [
    {
     "name": "stdout",
     "output_type": "stream",
     "text": [
      "count of NULL values after imputation\n",
      "\n",
      "72.6                   0\n",
      "0                      0\n",
      "30                     0\n",
      "6.67                   0\n",
      "9.67                   0\n",
      "13987                  0\n",
      "3428                   0\n",
      "53                     0\n",
      "Unnamed: 8             0\n",
      "0.000583762401551      0\n",
      "4.7979887649227E-06    0\n",
      "0.000191126987622      0\n",
      "0.009933313921695      0\n",
      "0.00243450347634       0\n",
      "821.99                 0\n",
      "6.756                  0\n",
      "269.124                0\n",
      "0.1                    0\n",
      "2                      0\n",
      "3                      0\n",
      "18                     0\n",
      "4                      0\n",
      "dtype: int64\n"
     ]
    }
   ],
   "source": [
    "print(\"count of NULL values after imputation\\n\")\n",
    "print(df_imputed.isnull().sum())"
   ]
  },
  {
   "cell_type": "code",
   "execution_count": 6,
   "metadata": {},
   "outputs": [],
   "source": [
    "# save imputed data to csv \n",
    "df_imputed.to_csv(\"C:\\\\Users\\\\AZD\\\\Documents\\\\GitHub\\\\Alzheimers-Classification\\\\ADNI Data Breakdown\\\\data imputation\\\\mergedData_KNNIMPUTED_2.csv\", index=False)"
   ]
  },
  {
   "cell_type": "code",
   "execution_count": null,
   "metadata": {},
   "outputs": [],
   "source": []
  }
 ],
 "metadata": {
  "kernelspec": {
   "display_name": "Python 3",
   "language": "python",
   "name": "python3"
  },
  "language_info": {
   "codemirror_mode": {
    "name": "ipython",
    "version": 3
   },
   "file_extension": ".py",
   "mimetype": "text/x-python",
   "name": "python",
   "nbconvert_exporter": "python",
   "pygments_lexer": "ipython3",
   "version": "3.8.3"
  }
 },
 "nbformat": 4,
 "nbformat_minor": 4
}
